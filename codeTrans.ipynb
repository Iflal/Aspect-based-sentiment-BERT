{
 "cells": [
  {
   "cell_type": "markdown",
   "metadata": {},
   "source": [
    "### Data preparation\n",
    "#### load and prepare the data set"
   ]
  },
  {
   "cell_type": "code",
   "execution_count": 8,
   "metadata": {},
   "outputs": [
    {
     "name": "stdout",
     "output_type": "stream",
     "text": [
      "                                              Review Rating  \\\n",
      "0  The ambience was good, food was quite good . h...      5   \n",
      "1  Ambience is too good for a pleasant evening. S...      5   \n",
      "2  A must try.. great food great ambience. Thnx f...      5   \n",
      "3  Soumen das and Arun was a great guy. Only beca...      5   \n",
      "4  Food is good.we ordered Kodi drumsticks and ba...      5   \n",
      "\n",
      "  Food Quality Sentiment Service Sentiment Ambiance Sentiment  \n",
      "0                                                              \n",
      "1                                                              \n",
      "2                                                              \n",
      "3                                                              \n",
      "4                                                              \n"
     ]
    }
   ],
   "source": [
    "import pandas as pd \n",
    "\n",
    "data = pd.read_csv('Restaurant_reviews.csv')\n",
    "\n",
    "data = data[['Review', 'Rating']]. dropna().reset_index(drop=True)\n",
    "\n",
    "#create new column for labeling each aspect\n",
    "data['Food Quality Sentiment'] = ''\n",
    "data['Service Sentiment'] = ''\n",
    "data['Ambiance Sentiment'] = ''\n",
    "\n",
    "print(data.head())"
   ]
  },
  {
   "cell_type": "markdown",
   "metadata": {},
   "source": [
    "#### Encode labels"
   ]
  },
  {
   "cell_type": "code",
   "execution_count": null,
   "metadata": {},
   "outputs": [
    {
     "name": "stdout",
     "output_type": "stream",
     "text": [
      "                                              Review  \\\n",
      "0  The ambience was good, food was quite good . h...   \n",
      "1  Ambience is too good for a pleasant evening. S...   \n",
      "2  A must try.. great food great ambience. Thnx f...   \n",
      "3  Soumen das and Arun was a great guy. Only beca...   \n",
      "4  Food is good.we ordered Kodi drumsticks and ba...   \n",
      "\n",
      "                                           Food Text  \\\n",
      "0        The ambience was good, food was quite good    \n",
      "1                                       Food is good   \n",
      "2                          great food great ambience   \n",
      "3   Only because of their behavior and sincerety,...   \n",
      "4                                       Food is good   \n",
      "\n",
      "                                        Service Text  \\\n",
      "0  \\nWaiter Soumen Das was really courteous and h...   \n",
      "1   Service is very prompt  Soumen Das - kudos to...   \n",
      "2        Thnx for the service by Pradeep and Subroto   \n",
      "3                                                      \n",
      "4                                                      \n",
      "\n",
      "                                  Ambiance Text  \n",
      "0                                                \n",
      "1                                                \n",
      "2   Also the music in the background is amazing  \n",
      "3                                                \n",
      "4                                                \n"
     ]
    }
   ],
   "source": [
    "# from sklearn.model_selection import train_test_split\n",
    "\n",
    "# # Map sentiment labels to integers\n",
    "# label_map = {'positive': 2, 'neutral': 1, 'negative': 0}\n",
    "\n",
    "# # Apply the mapping to each aspect column\n",
    "# data['Food Quality Sentiment'] = data['Food Quality Sentiment'].map(label_map)\n",
    "# data['Service Sentiment'] = data['Service Sentiment'].map(label_map)\n",
    "# data['Ambiance Sentiment'] = data['Ambiance Sentiment'].map(label_map)\n",
    "\n",
    "# # Drop any rows where an aspect is not labeled yet (e.g., rows with NaNs in the sentiment columns)\n",
    "# data = data.dropna(subset=['Food Quality Sentiment', 'Service Sentiment', 'Ambiance Sentiment']).reset_index(drop=True)\n",
    "\n",
    "# # Split the data into training and testing sets\n",
    "# train_data, test_data = train_test_split(data, test_size=0.2, random_state=42)\n",
    "\n",
    "# # Display a sample from the training set for verification\n",
    "# print(train_data.head())\n",
    "\n",
    "\n",
    "import re\n",
    "\n",
    "# Define keywords for each aspect\n",
    "food_keywords = ['food', 'taste', 'flavor', 'meal', 'dish', 'cuisine']\n",
    "service_keywords = ['service', 'staff', 'waiter', 'waitress', 'attentive', 'slow', 'friendly']\n",
    "ambiance_keywords = ['ambiance', 'atmosphere', 'environment', 'decor', 'vibe', 'music']\n",
    "\n",
    "# Function to extract aspect-specific text based on keywords\n",
    "def extract_aspect_text(review, keywords):\n",
    "    sentences = re.split(r'[.!?]', review)  # Split review into sentences\n",
    "    aspect_text = [sentence for sentence in sentences if any(keyword in sentence.lower() for keyword in keywords)]\n",
    "    return ' '.join(aspect_text)\n",
    "\n",
    "# Apply extraction for each aspect\n",
    "data['Food Text'] = data['Review'].apply(lambda x: extract_aspect_text(x, food_keywords))\n",
    "data['Service Text'] = data['Review'].apply(lambda x: extract_aspect_text(x, service_keywords))\n",
    "data['Ambiance Text'] = data['Review'].apply(lambda x: extract_aspect_text(x, ambiance_keywords))\n",
    "\n",
    "# Display the data to verify extraction\n",
    "print(data[['Review', 'Food Text', 'Service Text', 'Ambiance Text']].head())\n"
   ]
  },
  {
   "cell_type": "code",
   "execution_count": 11,
   "metadata": {},
   "outputs": [
    {
     "name": "stdout",
     "output_type": "stream",
     "text": [
      "                                              Review Food Quality Sentiment  \\\n",
      "0  The ambience was good, food was quite good . h...               positive   \n",
      "1  Ambience is too good for a pleasant evening. S...               positive   \n",
      "2  A must try.. great food great ambience. Thnx f...               positive   \n",
      "3  Soumen das and Arun was a great guy. Only beca...               positive   \n",
      "4  Food is good.we ordered Kodi drumsticks and ba...               positive   \n",
      "\n",
      "  Service Sentiment Ambiance Sentiment  \n",
      "0          positive            neutral  \n",
      "1          positive            neutral  \n",
      "2          negative           positive  \n",
      "3           neutral            neutral  \n",
      "4           neutral            neutral  \n"
     ]
    }
   ],
   "source": [
    "from transformers import pipeline\n",
    "\n",
    "# Initialize a sentiment analysis pipeline using a pre-trained model\n",
    "sentiment_analyzer = pipeline(\"sentiment-analysis\", model=\"distilbert-base-uncased-finetuned-sst-2-english\", truncation=True)\n",
    "\n",
    "# Modify the function to handle truncation\n",
    "def analyze_sentiment(aspect_text):\n",
    "    # Limit input to 512 characters to avoid exceeding model limits\n",
    "    aspect_text = aspect_text[:512] if len(aspect_text) > 512 else aspect_text\n",
    "    \n",
    "    if aspect_text.strip():  # Ensure there is text to analyze\n",
    "        result = sentiment_analyzer(aspect_text)[0]\n",
    "        sentiment = result['label'].lower()\n",
    "    else:\n",
    "        sentiment = 'neutral'  # If no text is extracted for the aspect\n",
    "    return sentiment\n",
    "\n",
    "# Apply the sentiment analysis model to each aspect\n",
    "data['Food Quality Sentiment'] = data['Food Text'].apply(analyze_sentiment)\n",
    "data['Service Sentiment'] = data['Service Text'].apply(analyze_sentiment)\n",
    "data['Ambiance Sentiment'] = data['Ambiance Text'].apply(analyze_sentiment)\n",
    "\n",
    "# Display a sample to check the results\n",
    "print(data[['Review', 'Food Quality Sentiment', 'Service Sentiment', 'Ambiance Sentiment']].head())\n"
   ]
  },
  {
   "cell_type": "code",
   "execution_count": 12,
   "metadata": {},
   "outputs": [
    {
     "name": "stdout",
     "output_type": "stream",
     "text": [
      "Processed data saved as 'Restaurant_Reviews_with_Aspect_Sentiment.csv'\n"
     ]
    }
   ],
   "source": [
    "# Save the dataset with aspect sentiments to a CSV file\n",
    "data[['Review', 'Food Quality Sentiment', 'Service Sentiment', 'Ambiance Sentiment']].to_csv('Restaurant_Reviews_with_Aspect_Sentiment.csv', index=False)\n",
    "\n",
    "print(\"Processed data saved as 'Restaurant_Reviews_with_Aspect_Sentiment.csv'\")\n"
   ]
  },
  {
   "cell_type": "code",
   "execution_count": 1,
   "metadata": {},
   "outputs": [
    {
     "name": "stderr",
     "output_type": "stream",
     "text": [
      "C:\\Users\\Iflal\\AppData\\Roaming\\Python\\Python39\\site-packages\\tqdm\\auto.py:21: TqdmWarning: IProgress not found. Please update jupyter and ipywidgets. See https://ipywidgets.readthedocs.io/en/stable/user_install.html\n",
      "  from .autonotebook import tqdm as notebook_tqdm\n"
     ]
    },
    {
     "name": "stdout",
     "output_type": "stream",
     "text": [
      "Review: The food was fantastic, but the service was slow, and the ambiance could have been better.\n",
      "Food Quality Sentiment: negative\n",
      "Service Sentiment: negative\n",
      "Ambiance Sentiment: negative\n",
      "{'Review': 'The food was fantastic, but the service was slow, and the ambiance could have been better.', 'Food Quality Sentiment': 'negative', 'Service Sentiment': 'negative', 'Ambiance Sentiment': 'negative'}\n"
     ]
    }
   ],
   "source": [
    "import re\n",
    "import pandas as pd\n",
    "from transformers import pipeline\n",
    "\n",
    "# Define keywords for each aspect\n",
    "food_keywords = ['food', 'taste', 'flavor', 'meal', 'dish', 'cuisine']\n",
    "service_keywords = ['service', 'staff', 'waiter', 'waitress', 'attentive', 'slow', 'friendly']\n",
    "ambiance_keywords = ['ambiance', 'atmosphere', 'environment', 'decor', 'vibe', 'music']\n",
    "\n",
    "# Initialize the sentiment analysis pipeline\n",
    "sentiment_analyzer = pipeline(\"sentiment-analysis\", model=\"distilbert-base-uncased-finetuned-sst-2-english\", truncation=True)\n",
    "\n",
    "# Function to extract aspect-specific text based on keywords\n",
    "def extract_aspect_text(review, keywords):\n",
    "    sentences = re.split(r'[.!?]', review)  # Split review into sentences\n",
    "    aspect_text = [sentence for sentence in sentences if any(keyword in sentence.lower() for keyword in keywords)]\n",
    "    return ' '.join(aspect_text)\n",
    "\n",
    "# Function to analyze sentiment for a given aspect text\n",
    "def analyze_sentiment(aspect_text):\n",
    "    aspect_text = aspect_text[:512] if len(aspect_text) > 512 else aspect_text  # Limit input to 512 characters\n",
    "    \n",
    "    if aspect_text.strip():  # Ensure there is text to analyze\n",
    "        result = sentiment_analyzer(aspect_text)[0]\n",
    "        sentiment = result['label'].lower()\n",
    "    else:\n",
    "        sentiment = 'neutral'  # Default to 'neutral' if no text found\n",
    "    return sentiment\n",
    "\n",
    "# Main function to process a new review\n",
    "def analyze_new_review(review):\n",
    "    # Extract text for each aspect\n",
    "    food_text = extract_aspect_text(review, food_keywords)\n",
    "    service_text = extract_aspect_text(review, service_keywords)\n",
    "    ambiance_text = extract_aspect_text(review, ambiance_keywords)\n",
    "\n",
    "    # Perform sentiment analysis on each aspect\n",
    "    food_sentiment = analyze_sentiment(food_text)\n",
    "    service_sentiment = analyze_sentiment(service_text)\n",
    "    ambiance_sentiment = analyze_sentiment(ambiance_text)\n",
    "\n",
    "    # Print the results\n",
    "    print(\"Review:\", review)\n",
    "    print(\"Food Quality Sentiment:\", food_sentiment)\n",
    "    print(\"Service Sentiment:\", service_sentiment)\n",
    "    print(\"Ambiance Sentiment:\", ambiance_sentiment)\n",
    "\n",
    "    # Return the results as a dictionary (optional)\n",
    "    return {\n",
    "        \"Review\": review,\n",
    "        \"Food Quality Sentiment\": food_sentiment,\n",
    "        \"Service Sentiment\": service_sentiment,\n",
    "        \"Ambiance Sentiment\": ambiance_sentiment\n",
    "    }\n",
    "\n",
    "# Example Usage\n",
    "new_review = \"The food was fantastic, but the service was slow, and the ambiance could have been better.\"\n",
    "result = analyze_new_review(new_review)\n",
    "\n",
    "# Display the result\n",
    "print(result)\n"
   ]
  },
  {
   "cell_type": "code",
   "execution_count": null,
   "metadata": {},
   "outputs": [],
   "source": []
  }
 ],
 "metadata": {
  "kernelspec": {
   "display_name": "py39new",
   "language": "python",
   "name": "python3"
  },
  "language_info": {
   "codemirror_mode": {
    "name": "ipython",
    "version": 3
   },
   "file_extension": ".py",
   "mimetype": "text/x-python",
   "name": "python",
   "nbconvert_exporter": "python",
   "pygments_lexer": "ipython3",
   "version": "3.9.19"
  }
 },
 "nbformat": 4,
 "nbformat_minor": 2
}
