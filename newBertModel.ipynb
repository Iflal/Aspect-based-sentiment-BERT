{
 "cells": [
  {
   "cell_type": "code",
   "execution_count": null,
   "metadata": {},
   "outputs": [
    {
     "name": "stderr",
     "output_type": "stream",
     "text": [
      "C:\\Users\\Iflal\\AppData\\Roaming\\Python\\Python39\\site-packages\\tqdm\\auto.py:21: TqdmWarning: IProgress not found. Please update jupyter and ipywidgets. See https://ipywidgets.readthedocs.io/en/stable/user_install.html\n",
      "  from .autonotebook import tqdm as notebook_tqdm\n",
      "Asking to truncate to max_length but no maximum length is provided and the model has no predefined maximum length. Default to no truncation.\n"
     ]
    },
    {
     "name": "stdout",
     "output_type": "stream",
     "text": [
      "                                              Review Food Quality Sentiment  \\\n",
      "0  The ambience was good, food was quite good . h...                neutral   \n",
      "1  Ambience is too good for a pleasant evening. S...                neutral   \n",
      "2  A must try.. great food great ambience. Thnx f...                neutral   \n",
      "3  Soumen das and Arun was a great guy. Only beca...                neutral   \n",
      "4  Food is good.we ordered Kodi drumsticks and ba...                neutral   \n",
      "\n",
      "  Service Sentiment Ambiance Sentiment  \n",
      "0           neutral            neutral  \n",
      "1           neutral            neutral  \n",
      "2           neutral            neutral  \n",
      "3           neutral            neutral  \n",
      "4           neutral            neutral  \n",
      "Processed data saved as 'Restaurant_Reviews_with_Aspect_Sentiment.csv'\n"
     ]
    }
   ],
   "source": [
    "import pandas as pd\n",
    "import re\n",
    "from transformers import pipeline\n",
    "\n",
    "# Load dataset\n",
    "data = pd.read_csv('Restaurant_reviews.csv')\n",
    "data = data[['Review', 'Rating']].dropna().reset_index(drop=True)\n",
    "\n",
    "# Initialize columns for each aspect\n",
    "data['Food Quality Sentiment'] = ''\n",
    "data['Service Sentiment'] = ''\n",
    "data['Ambiance Sentiment'] = ''\n",
    "\n",
    "# Define keywords for each aspect\n",
    "food_keywords = ['food', 'taste', 'flavor', 'meal', 'dish', 'cuisine']\n",
    "service_keywords = ['service', 'staff', 'waiter', 'waitress', 'attentive', 'slow', 'friendly']\n",
    "ambiance_keywords = ['ambiance', 'atmosphere', 'environment', 'decor', 'vibe', 'music']\n",
    "\n",
    "# Function to extract aspect-specific text based on keywords\n",
    "def extract_aspect_text(review, keywords):\n",
    "    sentences = re.split(r'[.!?]', review)  # Split review into sentences\n",
    "    aspect_text = [sentence for sentence in sentences if any(keyword in sentence.lower() for keyword in keywords)]\n",
    "    return ' '.join(aspect_text)\n",
    "\n",
    "# Apply extraction for each aspect\n",
    "data['Food Text'] = data['Review'].apply(lambda x: extract_aspect_text(x, food_keywords))\n",
    "data['Service Text'] = data['Review'].apply(lambda x: extract_aspect_text(x, service_keywords))\n",
    "data['Ambiance Text'] = data['Review'].apply(lambda x: extract_aspect_text(x, ambiance_keywords))\n",
    "\n",
    "# Initialize a sentiment analysis pipeline using a model with \"neutral\" classification\n",
    "sentiment_analyzer = pipeline(\"sentiment-analysis\", model=\"cardiffnlp/twitter-roberta-base-sentiment\", truncation=True)\n",
    "\n",
    "# Adjusted function for analyzing sentiment with thresholds\n",
    "def analyze_sentiment(aspect_text):\n",
    "    # Limit input to 512 characters to avoid model limit issues\n",
    "    aspect_text = aspect_text[:512] if len(aspect_text) > 512 else aspect_text\n",
    "    \n",
    "    if aspect_text.strip():  # Ensure there's text to analyze\n",
    "        result = sentiment_analyzer(aspect_text)[0]\n",
    "        sentiment = result['label'].lower()\n",
    "        score = result['score']\n",
    "\n",
    "        # Map sentiment based on score thresholds\n",
    "        if sentiment == \"positive\" and score > 0.75:\n",
    "            sentiment = \"very positive\"\n",
    "        elif sentiment == \"positive\":\n",
    "            sentiment = \"positive\"\n",
    "        elif sentiment == \"negative\" and score > 0.75:\n",
    "            sentiment = \"very negative\"\n",
    "        elif sentiment == \"negative\":\n",
    "            sentiment = \"negative\"\n",
    "        else:\n",
    "            sentiment = \"neutral\"  # Assign \"neutral\" for uncertain scores\n",
    "    else:\n",
    "        sentiment = 'neutral'  # If no aspect text was extracted\n",
    "    \n",
    "    return sentiment\n",
    "\n",
    "# Apply the sentiment analysis to each aspect\n",
    "data['Food Quality Sentiment'] = data['Food Text'].apply(analyze_sentiment)\n",
    "data['Service Sentiment'] = data['Service Text'].apply(analyze_sentiment)\n",
    "data['Ambiance Sentiment'] = data['Ambiance Text'].apply(analyze_sentiment)\n",
    "\n",
    "# Display a sample to verify the results\n",
    "print(data[['Review', 'Food Quality Sentiment', 'Service Sentiment', 'Ambiance Sentiment']].head())\n",
    "\n",
    "# Save the dataset with aspect sentiments to a CSV file\n",
    "data[['Review', 'Food Quality Sentiment', 'Service Sentiment', 'Ambiance Sentiment']].to_csv('Restaurant_Reviews_with_Aspect_Sentiment2.csv', index=False)\n",
    "\n",
    "print(\"Processed data saved as 'Restaurant_Reviews_with_Aspect_Sentiment.csv'\")\n"
   ]
  },
  {
   "cell_type": "code",
   "execution_count": null,
   "metadata": {},
   "outputs": [],
   "source": []
  }
 ],
 "metadata": {
  "kernelspec": {
   "display_name": "py39new",
   "language": "python",
   "name": "python3"
  },
  "language_info": {
   "codemirror_mode": {
    "name": "ipython",
    "version": 3
   },
   "file_extension": ".py",
   "mimetype": "text/x-python",
   "name": "python",
   "nbconvert_exporter": "python",
   "pygments_lexer": "ipython3",
   "version": "3.9.19"
  }
 },
 "nbformat": 4,
 "nbformat_minor": 2
}
